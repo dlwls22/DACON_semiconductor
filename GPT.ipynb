{
 "cells": [
  {
   "cell_type": "code",
   "execution_count": 3,
   "metadata": {},
   "outputs": [],
   "source": [
    "import h5py\n",
    "import random\n",
    "from torch.utils.data import Dataset\n",
    "\n",
    "class GPTDataset(Dataset):\n",
    "    def __init__(self, dataset_path: str, seq_len: int, window_size: int, rng: random.Random):\n",
    "        self.dataset = h5py.File(dataset_path, 'r')['token_ids']\n",
    "        self.seq_len = seq_len\n",
    "        self.window_size = window_size\n",
    "        self.rng = rng\n",
    "        self.size = len(self.dataset)\n",
    "\n",
    "    def __len__(self):\n",
    "        return self.size\n",
    "    \n",
    "    def __getitem__(self.idx):\n",
    "        start_point = self.rng.randint(0, self.size) # 0부터 self.size까지 중 랜덤\n",
    "        end_point = min(start_point + (window_size + 1), self.size) # 최소 start_point에서 window_size+1만큼 더한거부터 self.size까지\n",
    "        window = self.dataset[start_point:end_point]\n",
    "\n",
    "        input_ids = window[:-1]\n",
    "        label_ids = window[1:]\n",
    "        return input_ids, label_ids"
   ]
  },
  {
   "cell_type": "code",
   "execution_count": null,
   "metadata": {},
   "outputs": [],
   "source": []
  }
 ],
 "metadata": {
  "kernelspec": {
   "display_name": "Python 3",
   "language": "python",
   "name": "python3"
  },
  "language_info": {
   "codemirror_mode": {
    "name": "ipython",
    "version": 3
   },
   "file_extension": ".py",
   "mimetype": "text/x-python",
   "name": "python",
   "nbconvert_exporter": "python",
   "pygments_lexer": "ipython3",
   "version": "3.11.2"
  }
 },
 "nbformat": 4,
 "nbformat_minor": 2
}
